{
 "cells": [
  {
   "cell_type": "markdown",
   "id": "37bf8d75",
   "metadata": {},
   "source": [
    "# <div align = 'center'> Práctica Dirigida 5 </div>\n",
    "### Pregunta 1\n",
    "  <div align = 'left'>\n",
    "      <font color = 'steelblue' size = 4>\n",
    "        Para este ejercicio emplee la base de datos <strong>wage1</strong> del dataWoo del Wooldridge<br>\n",
    "          i) Determine el nivel educativo promedio de la muestra. ¿Cuáles son los niveles de educación\n",
    "menor y mayor?<br>\n",
    "ii) Determine el salario promedio por hora (wage) en la muestra. ¿Parece ser alto o bajo?<br>\n",
    "iii) ¿Cuántas mujeres (females) hay en la muestra? ¿Cuántos hombres?<br>\n",
    "          </font>\n",
    "        </div>"
   ]
  },
  {
   "cell_type": "code",
   "execution_count": 4,
   "id": "7813cee3",
   "metadata": {},
   "outputs": [
    {
     "name": "stdout",
     "output_type": "stream",
     "text": [
      "El nivel educativo mínimo es 0 años\n",
      "El nivel educativo máximo es 18 años\n"
     ]
    }
   ],
   "source": [
    "#primero importamos librerías\n",
    "import wooldridge as woo\n",
    "import numpy as np\n",
    "import pandas as pd\n",
    "\n",
    "#woo.datawoo('wage1', description=True)\n",
    "\n",
    "#wage1 = woo.datawoo('wage1')\n",
    "\n",
    "df = woo.dataWoo('wage1')\n",
    "\n",
    "#para llamar y mostrar solo se pone la asignación\n",
    "#df\n",
    "\n",
    "#I. Determine el nivel educativo promedio de la muestra. ¿Cuáles son los niveles de educación\n",
    "educacion = df['educ']\n",
    "educacion\n",
    "\n",
    "np.mean(educacion)\n",
    "\n",
    "educacion_promedio= np.mean(educacion)\n",
    "\n",
    "educacion_promedio\n",
    "#print(f\"El nivel educativo promedio es\", educacion_promedio, \"años\")\n",
    "#print(f\"El nivel educativo promedio es {educacion_promedio: 0.1f} años\")\n",
    "print(f\"El nivel educativo mínimo es {np.min(educacion):0.0f} años\")\n",
    "print(f\"El nivel educativo máximo es {np.max(educacion):0.0f} años\")\n"
   ]
  },
  {
   "cell_type": "code",
   "execution_count": 5,
   "id": "4239a76f",
   "metadata": {},
   "outputs": [
    {
     "name": "stdout",
     "output_type": "stream",
     "text": [
      "0       3.10\n",
      "1       3.24\n",
      "2       3.00\n",
      "3       6.00\n",
      "4       5.30\n",
      "       ...  \n",
      "521    15.00\n",
      "522     2.27\n",
      "523     4.67\n",
      "524    11.56\n",
      "525     3.50\n",
      "Name: wage, Length: 526, dtype: float64\n",
      "El nivel salario promedio es 5.9 por hora\n",
      "El nivel salario minimo es 0.5 por hora\n",
      "El nivel salario maximo es 25.0 por hora\n"
     ]
    }
   ],
   "source": [
    "#II. Determine el salario promedio por hora (wage) en la muestra. ¿Parece ser alto o bajo?\n",
    "salario =df['wage']\n",
    "print(salario)\n",
    "\n",
    "np.mean(salario)\n",
    "\n",
    "salario_promedio = np.mean(salario)\n",
    "\n",
    "print(f\"El nivel salario promedio es {np.mean(salario):0.1f} por hora\")\n",
    "print(f\"El nivel salario minimo es {np.min(salario):0.1f} por hora\")\n",
    "print(f\"El nivel salario maximo es {np.max(salario):0.1f} por hora\")"
   ]
  },
  {
   "cell_type": "code",
   "execution_count": 6,
   "id": "da6dd448",
   "metadata": {},
   "outputs": [
    {
     "data": {
      "text/plain": [
       "Hombre    274\n",
       "Mujer     252\n",
       "Name: sexo, dtype: int64"
      ]
     },
     "execution_count": 6,
     "metadata": {},
     "output_type": "execute_result"
    }
   ],
   "source": [
    "#III. ¿Cuántas mujeres (females) hay en la muestra? ¿Cuántos hombres?\n",
    "\n",
    "df=woo.dataWoo('wage1')\n",
    "\n",
    "#crea variables, sexo 1 columna más\n",
    "df['sexo'] = pd.Categorical.from_codes(df['female'], categories=['Hombre','Mujer'])\n",
    "#df\n",
    "#cantidad_observaciones_np= np.unique(df['sexo'],return_counts=True)\n",
    "#cantidad_observaciones_np\n",
    "\n",
    "cantidad_observaciones_pd = df['sexo'].value_counts()\n",
    "cantidad_observaciones_pd\n",
    "\n"
   ]
  },
  {
   "cell_type": "markdown",
   "id": "2915af4c",
   "metadata": {},
   "source": [
    "### Pregunta 2\n",
    "  <div align = 'left'>\n",
    "      <font color = 'steelblue' size = 4>\n",
    "        Para este ejercicio emplee la base de datos <strong>bwght</strong> del dataWoo del Wooldridge<br>\n",
    "          i) ¿Cuantas mujeres hay en la muestra (male = 0) y cuantas de las informantes fumaron durante un embarazo?.<br>\n",
    "ii) ¿Cual es la cantidad promedio de cigarros consumidos por dıa (cigs)? ¿Es el promedio, en este caso, una medida representativa de la mujer “tıpica”? Explique.<br>\n",
    "iii) Entre las mujeres que fumaron durante el embarazo, ¿cu ́al es la cantidad promedio de cigarros consumidos por d ́ıa? ¿Cu ́al es la relaci ́on de esto con su respuesta al inciso y por que?<br>\n",
    "iv) Determine el promedio de fatheduc (a ̃nos de educaci ́on del padre) en la muestra.¿Por que se emplean solo 1192 observaciones para calcular este promedio?<br>\n",
    "v) Hallar el ingreso familiar promedio (famine) y su desviacion estandar en dolares.<br>\n",
    "    </font>\n",
    "        </div>"
   ]
  },
  {
   "cell_type": "code",
   "execution_count": 7,
   "id": "f8de1bc0",
   "metadata": {},
   "outputs": [
    {
     "data": {
      "text/plain": [
       "212"
      ]
     },
     "execution_count": 7,
     "metadata": {},
     "output_type": "execute_result"
    }
   ],
   "source": [
    "#I.¿Cuantas mujeres hay en la muestra (male = 0) y cuantas de las informantes fumaron durante un embarazo?.\n",
    "\n",
    "#woo.dataWoo('bwght', description=True)\n",
    "df = woo.dataWoo('bwght')\n",
    "#df\n",
    "\n",
    "#df['sexo'] = pd.Categorical.from_codes(df['male'], categories=['Mujer','Hombre'])\n",
    "\n",
    "#cantidad_observaciones = df['sexo'].value_counts()\n",
    "#cantidad_observaciones\n",
    "\n",
    "## df[df] sirve para filtrar\n",
    "#cantidad_mujeres = df[df['male']<1]\n",
    "#len(cantidad_mujeres)\n",
    "#cigs\n",
    "\n",
    "cantidad_mujeres_fuman = df[df['packs']>0]\n",
    "len(cantidad_mujeres_fuman)\n",
    "#cantidad_mujeres_fuman\n",
    "\n",
    "\n"
   ]
  },
  {
   "cell_type": "code",
   "execution_count": 51,
   "id": "d3d16084",
   "metadata": {},
   "outputs": [
    {
     "name": "stdout",
     "output_type": "stream",
     "text": [
      "La cantidad de cigarros consumidos promedio es 2.087\n"
     ]
    }
   ],
   "source": [
    "#II.  ¿Cual es la cantidad promedio de cigarros consumidos por dıa (cigs)? ¿Es el promedio, en este caso, una medida representativa de la mujer “tıpica”? Explique.\n",
    "\n",
    "#woo.dataWoo('bwght', description=True)\n",
    "\n",
    "#cigs\n",
    "\n",
    "cigarros = df['cigs']\n",
    "cigarros\n",
    "\n",
    "np.mean(cigarros)\n",
    "\n",
    "cigarros_promedio= np.mean(cigarros)\n",
    "\n",
    "print(f\"La cantidad de cigarros consumidos promedio es {np.mean(cigarros):0.3f}\")"
   ]
  },
  {
   "cell_type": "code",
   "execution_count": 53,
   "id": "9978b06c",
   "metadata": {},
   "outputs": [
    {
     "name": "stdout",
     "output_type": "stream",
     "text": [
      "promedio 13.67\n"
     ]
    }
   ],
   "source": [
    "#III. Entre las mujeres que fumaron durante el embarazo, ¿cu ́al es la cantidad promedio de cigarros consumidos por d ́ıa? ¿Cu ́al es la relaci ́on de esto con su respuesta al inciso y por que?\n",
    "\n",
    "print(f'promedio {np.sum(cigarros)/len(cantidad_mujeres_fuman):0.2f}')"
   ]
  },
  {
   "cell_type": "code",
   "execution_count": 1,
   "id": "30ccab86",
   "metadata": {},
   "outputs": [
    {
     "ename": "NameError",
     "evalue": "name 'woo' is not defined",
     "output_type": "error",
     "traceback": [
      "\u001b[1;31m---------------------------------------------------------------------------\u001b[0m",
      "\u001b[1;31mNameError\u001b[0m                                 Traceback (most recent call last)",
      "\u001b[1;32m<ipython-input-1-b808c8b232eb>\u001b[0m in \u001b[0;36m<module>\u001b[1;34m\u001b[0m\n\u001b[0;32m      1\u001b[0m \u001b[1;31m#IV.\u001b[0m\u001b[1;33m\u001b[0m\u001b[1;33m\u001b[0m\u001b[1;33m\u001b[0m\u001b[0m\n\u001b[1;32m----> 2\u001b[1;33m \u001b[0mwoo\u001b[0m\u001b[1;33m.\u001b[0m\u001b[0mdataWoo\u001b[0m\u001b[1;33m(\u001b[0m\u001b[1;34m'bwght'\u001b[0m\u001b[1;33m,\u001b[0m \u001b[0mdescription\u001b[0m\u001b[1;33m=\u001b[0m\u001b[1;32mTrue\u001b[0m\u001b[1;33m)\u001b[0m\u001b[1;33m\u001b[0m\u001b[1;33m\u001b[0m\u001b[0m\n\u001b[0m\u001b[0;32m      3\u001b[0m \u001b[1;33m\u001b[0m\u001b[0m\n\u001b[0;32m      4\u001b[0m \u001b[1;31m#fatheduc = df['fatheduc']\u001b[0m\u001b[1;33m\u001b[0m\u001b[1;33m\u001b[0m\u001b[1;33m\u001b[0m\u001b[0m\n\u001b[0;32m      5\u001b[0m \u001b[1;31m#padres_educ = df[df['fatheduc']>0]\u001b[0m\u001b[1;33m\u001b[0m\u001b[1;33m\u001b[0m\u001b[1;33m\u001b[0m\u001b[0m\n",
      "\u001b[1;31mNameError\u001b[0m: name 'woo' is not defined"
     ]
    }
   ],
   "source": [
    "#IV.\n",
    "woo.dataWoo('bwght', description=True)\n",
    "\n",
    "#fatheduc = df['fatheduc']\n",
    "#padres_educ = df[df['fatheduc']>0]\n",
    "#len(padres_educ)\n",
    "\n",
    "#print(f'promedio {np.sum(fatheduc)/len(padres_educ):0.3f}')\n",
    "\n",
    "#lo del profe\n",
    "# df = woo.dataWoo('bwght')\n",
    "# año_edu_padre = df['fatheduc']\n",
    "#año_edu_padre = df['fatheduc'].fillna(0)\n",
    "#año_edu_padre = df[df['fatheduc'].notnull()]\n",
    "# sale 11.32\n",
    "#si se rellena con 0, baja el promedio lo cual NO ES RECOMENDABLE\n",
    "# año_edu_padre\n",
    "# np.mean(año_edu_padre)\n"
   ]
  },
  {
   "cell_type": "code",
   "execution_count": 73,
   "id": "641ddc31",
   "metadata": {},
   "outputs": [
    {
     "name": "stdout",
     "output_type": "stream",
     "text": [
      "ingreso familiar 29.0 del año 1988\n",
      "ingreso familiar dev estandar 18.7 del año 1988\n"
     ]
    }
   ],
   "source": [
    "#woo.dataWoo('bwght', description=True)\n",
    "\n",
    "ingreso_prom = df['faminc']\n",
    "ingreso_prom\n",
    "\n",
    "print(f'ingreso familiar {np.mean(ingreso_prom):0.1f} del año 1988')\n",
    "print(f'ingreso familiar dev estandar {np.std(ingreso_prom):0.1f} del año 1988')\n",
    "#print(f'ingreso familiar varianza {np.var(ingreso_prom):0.1f} del año 1988')"
   ]
  },
  {
   "cell_type": "markdown",
   "id": "135560e9",
   "metadata": {},
   "source": [
    "### Pregunta 3\n",
    "  <div align = 'left'>\n",
    "      <font color = 'steelblue' size = 4>\n",
    "        Para este ejercicio emplee la base de datos ceosal2 del dataWoo del Wooldridge que contiene informacion sobre directores generales de empresas (CEO) estadounidenses.\n",
    "La variable salary es el sueldo anual, en miles de d ́olares, y ceoten son los a ̃nos de\n",
    "antiguedad como CEO de la empresa.<br>\n",
    "          i) ¿Cuantas mujeres hay en la muestra (male = 0) y cuantas de las informantes fumaron durante un embarazo?.<br>\n",
    "ii) ¿Cual es la cantidad promedio de cigarros consumidos por dıa (cigs)? ¿Es el promedio, en este caso, una medida representativa de la mujer “tıpica”? Explique.<br>\n",
    "iii) Entre las mujeres que fumaron durante el embarazo, ¿cu ́al es la cantidad promedio de cigarros consumidos por d ́ıa? ¿Cu ́al es la relaci ́on de esto con su respuesta al inciso y por que?<br>\n",
    "iv) Determine el promedio de fatheduc (a ̃nos de educaci ́on del padre) en la muestra.¿Por que se emplean solo 1192 observaciones para calcular este promedio?<br>\n",
    "v) Hallar el ingreso familiar promedio (famine) y su desviacion estandar en dolares.<br>\n",
    "    </font>\n",
    "        </div>"
   ]
  },
  {
   "cell_type": "markdown",
   "id": "ee027c25",
   "metadata": {},
   "source": [
    "#Pregunta 4 - LA PREGUNTA FIJA"
   ]
  },
  {
   "cell_type": "code",
   "execution_count": 77,
   "id": "27b51470",
   "metadata": {},
   "outputs": [
    {
     "data": {
      "text/plain": [
       "array([0.9444966 , 0.46409817, 0.19279503, 0.58189488, 0.62008421,\n",
       "       0.68422402, 0.10343756, 0.74547577, 0.28197907, 0.75342459])"
      ]
     },
     "execution_count": 77,
     "metadata": {},
     "output_type": "execute_result"
    }
   ],
   "source": [
    "import numpy as np\n",
    "#FIJAR SEMILLA\n",
    "np.random.seed(37)\n",
    "x =np.random.rand(10)\n",
    "x\n"
   ]
  },
  {
   "cell_type": "code",
   "execution_count": null,
   "id": "ba744cc6",
   "metadata": {},
   "outputs": [],
   "source": []
  }
 ],
 "metadata": {
  "kernelspec": {
   "display_name": "Python 3",
   "language": "python",
   "name": "python3"
  },
  "language_info": {
   "codemirror_mode": {
    "name": "ipython",
    "version": 3
   },
   "file_extension": ".py",
   "mimetype": "text/x-python",
   "name": "python",
   "nbconvert_exporter": "python",
   "pygments_lexer": "ipython3",
   "version": "3.8.8"
  }
 },
 "nbformat": 4,
 "nbformat_minor": 5
}
